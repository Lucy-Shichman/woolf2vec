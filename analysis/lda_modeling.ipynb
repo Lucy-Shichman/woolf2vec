{
 "cells": [
  {
   "cell_type": "markdown",
   "id": "aba81da3-30e8-4e6d-b247-d74dcbb1ccf3",
   "metadata": {},
   "source": [
    "# LDA topic modeling"
   ]
  },
  {
   "cell_type": "code",
   "execution_count": 1,
   "id": "e99cca85-66bb-435c-83c2-03a623d95e25",
   "metadata": {},
   "outputs": [],
   "source": [
    "# imports\n",
    "import pandas as pd\n",
    "import numpy as np\n",
    "from sklearn.feature_extraction.text import CountVectorizer\n",
    "from sklearn.decomposition import LatentDirichletAllocation as LDA\n",
    "import plotly_express as px\n",
    "from sklearn.decomposition import PCA\n",
    "from sklearn.preprocessing import normalize\n",
    "\n",
    "# settings\n",
    "OHCO = ['book_id', 'chap_id', 'para_num', 'sent_num', 'token_num']\n",
    "PARA = OHCO[:3]\n",
    "CHAP = OHCO[:2]\n",
    "BOOK = OHCO[:1]\n",
    "BAG = CHAP\n",
    "\n",
    "# import tables\n",
    "output_dir = \"/Users/lucyshichman/Documents/MSDS/DS5001/final_project/woolf2vec/output\"\n",
    "TOKENS = pd.read_csv(f'{output_dir}/CORPUS.csv').set_index(OHCO)\n",
    "LIB = pd.read_csv(f\"{output_dir}/lib.csv\").set_index('book_id')"
   ]
  },
  {
   "cell_type": "code",
   "execution_count": 2,
   "id": "4db6fa9f-0ebf-46dc-bbf9-016939b8cef6",
   "metadata": {},
   "outputs": [
    {
     "data": {
      "text/html": [
       "<div>\n",
       "<style scoped>\n",
       "    .dataframe tbody tr th:only-of-type {\n",
       "        vertical-align: middle;\n",
       "    }\n",
       "\n",
       "    .dataframe tbody tr th {\n",
       "        vertical-align: top;\n",
       "    }\n",
       "\n",
       "    .dataframe thead th {\n",
       "        text-align: right;\n",
       "    }\n",
       "</style>\n",
       "<table border=\"1\" class=\"dataframe\">\n",
       "  <thead>\n",
       "    <tr style=\"text-align: right;\">\n",
       "      <th></th>\n",
       "      <th></th>\n",
       "      <th>doc_str</th>\n",
       "    </tr>\n",
       "    <tr>\n",
       "      <th>book_id</th>\n",
       "      <th>chap_id</th>\n",
       "      <th></th>\n",
       "    </tr>\n",
       "  </thead>\n",
       "  <tbody>\n",
       "    <tr>\n",
       "      <th rowspan=\"5\" valign=\"top\">BetweenTheActs</th>\n",
       "      <th>1</th>\n",
       "      <td>was summers night were talking big room window...</td>\n",
       "    </tr>\n",
       "    <tr>\n",
       "      <th>2</th>\n",
       "      <td>nurses breakfast were trundling perambulator t...</td>\n",
       "    </tr>\n",
       "    <tr>\n",
       "      <th>3</th>\n",
       "      <td>drew comb thick tangle hair which giving matte...</td>\n",
       "    </tr>\n",
       "    <tr>\n",
       "      <th>4</th>\n",
       "      <td>foolish flattering lady pausing threshold call...</td>\n",
       "    </tr>\n",
       "    <tr>\n",
       "      <th>5</th>\n",
       "      <td>had nailed placard was great building farmyard...</td>\n",
       "    </tr>\n",
       "    <tr>\n",
       "      <th>...</th>\n",
       "      <th>...</th>\n",
       "      <td>...</td>\n",
       "    </tr>\n",
       "    <tr>\n",
       "      <th rowspan=\"5\" valign=\"top\">ToTheLighthouse</th>\n",
       "      <th>39</th>\n",
       "      <td>the sea stain it thought standing looking bay ...</td>\n",
       "    </tr>\n",
       "    <tr>\n",
       "      <th>40</th>\n",
       "      <td>was then island thought drawing fingers waves ...</td>\n",
       "    </tr>\n",
       "    <tr>\n",
       "      <th>41</th>\n",
       "      <td>much depends then thought looking sea had stai...</td>\n",
       "    </tr>\n",
       "    <tr>\n",
       "      <th>42</th>\n",
       "      <td>had done reading hand hovered page be readines...</td>\n",
       "    </tr>\n",
       "    <tr>\n",
       "      <th>43</th>\n",
       "      <td>he have reached it said feeling tired out had ...</td>\n",
       "    </tr>\n",
       "  </tbody>\n",
       "</table>\n",
       "<p>209 rows × 1 columns</p>\n",
       "</div>"
      ],
      "text/plain": [
       "                                                                   doc_str\n",
       "book_id         chap_id                                                   \n",
       "BetweenTheActs  1        was summers night were talking big room window...\n",
       "                2        nurses breakfast were trundling perambulator t...\n",
       "                3        drew comb thick tangle hair which giving matte...\n",
       "                4        foolish flattering lady pausing threshold call...\n",
       "                5        had nailed placard was great building farmyard...\n",
       "...                                                                    ...\n",
       "ToTheLighthouse 39       the sea stain it thought standing looking bay ...\n",
       "                40       was then island thought drawing fingers waves ...\n",
       "                41       much depends then thought looking sea had stai...\n",
       "                42       had done reading hand hovered page be readines...\n",
       "                43       he have reached it said feeling tired out had ...\n",
       "\n",
       "[209 rows x 1 columns]"
      ]
     },
     "execution_count": 2,
     "metadata": {},
     "output_type": "execute_result"
    }
   ],
   "source": [
    "# create DOCS, filter for nouns and verbs only\n",
    "DOCS = TOKENS[TOKENS.pos.str.match(r'^(NN|NNS|VB|VBD|VBG|VBN|VBP|VBZ|JJ|JJR|JJS)$')]\\\n",
    "    .groupby(BAG).term_str\\\n",
    "    .apply(lambda x: ' '.join(map(str, x)))\\\n",
    "    .to_frame()\\\n",
    "    .rename(columns={'term_str': 'doc_str'})\n",
    "\n",
    "DOCS"
   ]
  },
  {
   "cell_type": "code",
   "execution_count": 3,
   "id": "53f0794e-6604-4a95-bf67-2b0c2ef0c213",
   "metadata": {},
   "outputs": [],
   "source": [
    "# create vector space using SciKitLearn's CountVectorizer\n",
    "count_engine = CountVectorizer(max_features=10000, ngram_range=(1, 2), stop_words='english')\n",
    "count_model = count_engine.fit_transform(DOCS.doc_str)\n",
    "TERMS = count_engine.get_feature_names_out()\n",
    "\n",
    "VOCAB = pd.DataFrame(index=TERMS)\n",
    "VOCAB.index.name = 'term_str'\n",
    "\n",
    "DTM = pd.DataFrame(count_model.toarray(), index=DOCS.index, columns=TERMS)"
   ]
  },
  {
   "cell_type": "code",
   "execution_count": 4,
   "id": "caece11d-4b61-4cc1-b706-5743e593686e",
   "metadata": {},
   "outputs": [
    {
     "data": {
      "text/html": [
       "<div>\n",
       "<style scoped>\n",
       "    .dataframe tbody tr th:only-of-type {\n",
       "        vertical-align: middle;\n",
       "    }\n",
       "\n",
       "    .dataframe tbody tr th {\n",
       "        vertical-align: top;\n",
       "    }\n",
       "\n",
       "    .dataframe thead th {\n",
       "        text-align: right;\n",
       "    }\n",
       "</style>\n",
       "<table border=\"1\" class=\"dataframe\">\n",
       "  <thead>\n",
       "    <tr style=\"text-align: right;\">\n",
       "      <th></th>\n",
       "      <th>doc_count</th>\n",
       "    </tr>\n",
       "    <tr>\n",
       "      <th>term_str</th>\n",
       "      <th></th>\n",
       "    </tr>\n",
       "  </thead>\n",
       "  <tbody>\n",
       "    <tr>\n",
       "      <th>aback</th>\n",
       "      <td>6</td>\n",
       "    </tr>\n",
       "    <tr>\n",
       "      <th>abandonment</th>\n",
       "      <td>13</td>\n",
       "    </tr>\n",
       "    <tr>\n",
       "      <th>able</th>\n",
       "      <td>62</td>\n",
       "    </tr>\n",
       "    <tr>\n",
       "      <th>able say</th>\n",
       "      <td>6</td>\n",
       "    </tr>\n",
       "    <tr>\n",
       "      <th>abroad</th>\n",
       "      <td>6</td>\n",
       "    </tr>\n",
       "    <tr>\n",
       "      <th>...</th>\n",
       "      <td>...</td>\n",
       "    </tr>\n",
       "    <tr>\n",
       "      <th>youth</th>\n",
       "      <td>46</td>\n",
       "    </tr>\n",
       "    <tr>\n",
       "      <th>youthful</th>\n",
       "      <td>6</td>\n",
       "    </tr>\n",
       "    <tr>\n",
       "      <th>youve</th>\n",
       "      <td>46</td>\n",
       "    </tr>\n",
       "    <tr>\n",
       "      <th>youve got</th>\n",
       "      <td>14</td>\n",
       "    </tr>\n",
       "    <tr>\n",
       "      <th>youve said</th>\n",
       "      <td>6</td>\n",
       "    </tr>\n",
       "  </tbody>\n",
       "</table>\n",
       "<p>10000 rows × 1 columns</p>\n",
       "</div>"
      ],
      "text/plain": [
       "             doc_count\n",
       "term_str              \n",
       "aback                6\n",
       "abandonment         13\n",
       "able                62\n",
       "able say             6\n",
       "abroad               6\n",
       "...                ...\n",
       "youth               46\n",
       "youthful             6\n",
       "youve               46\n",
       "youve got           14\n",
       "youve said           6\n",
       "\n",
       "[10000 rows x 1 columns]"
      ]
     },
     "execution_count": 4,
     "metadata": {},
     "output_type": "execute_result"
    }
   ],
   "source": [
    "VOCAB['doc_count'] = DTM.astype('bool').astype('int').sum()\n",
    "DOCS['term_count'] = DTM.sum(1)\n",
    "\n",
    "VOCAB"
   ]
  },
  {
   "cell_type": "code",
   "execution_count": 5,
   "id": "166fd2d8-e933-4dca-87bd-544e83c88119",
   "metadata": {},
   "outputs": [
    {
     "data": {
      "text/plain": [
       "count      209.000000\n",
       "mean      1519.220096\n",
       "std       1880.481216\n",
       "min          3.000000\n",
       "25%        421.000000\n",
       "50%       1114.000000\n",
       "75%       1955.000000\n",
       "max      16563.000000\n",
       "Name: term_count, dtype: float64"
      ]
     },
     "execution_count": 5,
     "metadata": {},
     "output_type": "execute_result"
    }
   ],
   "source": [
    "DOCS.term_count.describe()"
   ]
  },
  {
   "cell_type": "markdown",
   "id": "1d211281-8e4d-42dd-8830-1ebc50104587",
   "metadata": {},
   "source": [
    "## Generate model"
   ]
  },
  {
   "cell_type": "code",
   "execution_count": 6,
   "id": "4d70d646-9422-4423-86f8-61811ad20864",
   "metadata": {},
   "outputs": [],
   "source": [
    "# specify model\n",
    "n_topics=40\n",
    "lda_engine = LDA(n_components=n_topics, max_iter=20, learning_offset=50., random_state=0)\n",
    "lda_model = lda_engine.fit_transform(count_model)\n",
    "\n",
    "# topic names\n",
    "TNAMES = [f\"T{str(x).zfill(len(str(n_topics)))}\" for x in range(n_topics)]"
   ]
  },
  {
   "cell_type": "markdown",
   "id": "f566393f-9adb-4cc0-a3fe-b154e827c9f4",
   "metadata": {},
   "source": [
    "## Creating TOPICS, PHI, and THETA tables"
   ]
  },
  {
   "cell_type": "code",
   "execution_count": 7,
   "id": "fbfe0ebd-7e48-46f9-a055-233a6395467a",
   "metadata": {},
   "outputs": [
    {
     "data": {
      "text/html": [
       "<div>\n",
       "<style scoped>\n",
       "    .dataframe tbody tr th:only-of-type {\n",
       "        vertical-align: middle;\n",
       "    }\n",
       "\n",
       "    .dataframe tbody tr th {\n",
       "        vertical-align: top;\n",
       "    }\n",
       "\n",
       "    .dataframe thead th {\n",
       "        text-align: right;\n",
       "    }\n",
       "</style>\n",
       "<table border=\"1\" class=\"dataframe\">\n",
       "  <thead>\n",
       "    <tr style=\"text-align: right;\">\n",
       "      <th></th>\n",
       "      <th></th>\n",
       "      <th>T00</th>\n",
       "      <th>T01</th>\n",
       "      <th>T02</th>\n",
       "      <th>T03</th>\n",
       "      <th>T04</th>\n",
       "      <th>T05</th>\n",
       "      <th>T06</th>\n",
       "      <th>T07</th>\n",
       "      <th>T08</th>\n",
       "      <th>T09</th>\n",
       "      <th>...</th>\n",
       "      <th>T30</th>\n",
       "      <th>T31</th>\n",
       "      <th>T32</th>\n",
       "      <th>T33</th>\n",
       "      <th>T34</th>\n",
       "      <th>T35</th>\n",
       "      <th>T36</th>\n",
       "      <th>T37</th>\n",
       "      <th>T38</th>\n",
       "      <th>T39</th>\n",
       "    </tr>\n",
       "    <tr>\n",
       "      <th>book_id</th>\n",
       "      <th>chap_id</th>\n",
       "      <th></th>\n",
       "      <th></th>\n",
       "      <th></th>\n",
       "      <th></th>\n",
       "      <th></th>\n",
       "      <th></th>\n",
       "      <th></th>\n",
       "      <th></th>\n",
       "      <th></th>\n",
       "      <th></th>\n",
       "      <th></th>\n",
       "      <th></th>\n",
       "      <th></th>\n",
       "      <th></th>\n",
       "      <th></th>\n",
       "      <th></th>\n",
       "      <th></th>\n",
       "      <th></th>\n",
       "      <th></th>\n",
       "      <th></th>\n",
       "      <th></th>\n",
       "    </tr>\n",
       "  </thead>\n",
       "  <tbody>\n",
       "    <tr>\n",
       "      <th>BetweenTheActs</th>\n",
       "      <th>5</th>\n",
       "      <td>0.000117</td>\n",
       "      <td>0.000117</td>\n",
       "      <td>0.000117</td>\n",
       "      <td>0.000117</td>\n",
       "      <td>0.000117</td>\n",
       "      <td>0.000117</td>\n",
       "      <td>0.000117</td>\n",
       "      <td>0.000117</td>\n",
       "      <td>0.000117</td>\n",
       "      <td>0.000117</td>\n",
       "      <td>...</td>\n",
       "      <td>0.000117</td>\n",
       "      <td>0.000117</td>\n",
       "      <td>0.000117</td>\n",
       "      <td>0.000117</td>\n",
       "      <td>0.000117</td>\n",
       "      <td>0.000117</td>\n",
       "      <td>0.000117</td>\n",
       "      <td>0.000117</td>\n",
       "      <td>0.995444</td>\n",
       "      <td>0.000117</td>\n",
       "    </tr>\n",
       "    <tr>\n",
       "      <th>Orlando</th>\n",
       "      <th>6</th>\n",
       "      <td>0.000004</td>\n",
       "      <td>0.000004</td>\n",
       "      <td>0.000004</td>\n",
       "      <td>0.000004</td>\n",
       "      <td>0.000004</td>\n",
       "      <td>0.000004</td>\n",
       "      <td>0.000004</td>\n",
       "      <td>0.000004</td>\n",
       "      <td>0.000004</td>\n",
       "      <td>0.000004</td>\n",
       "      <td>...</td>\n",
       "      <td>0.000004</td>\n",
       "      <td>0.000004</td>\n",
       "      <td>0.000004</td>\n",
       "      <td>0.000004</td>\n",
       "      <td>0.000004</td>\n",
       "      <td>0.000004</td>\n",
       "      <td>0.000004</td>\n",
       "      <td>0.000004</td>\n",
       "      <td>0.000004</td>\n",
       "      <td>0.000004</td>\n",
       "    </tr>\n",
       "    <tr>\n",
       "      <th>NightAndDay</th>\n",
       "      <th>14</th>\n",
       "      <td>0.028393</td>\n",
       "      <td>0.000016</td>\n",
       "      <td>0.000016</td>\n",
       "      <td>0.000016</td>\n",
       "      <td>0.000016</td>\n",
       "      <td>0.000016</td>\n",
       "      <td>0.000016</td>\n",
       "      <td>0.000016</td>\n",
       "      <td>0.000016</td>\n",
       "      <td>0.000016</td>\n",
       "      <td>...</td>\n",
       "      <td>0.000016</td>\n",
       "      <td>0.000016</td>\n",
       "      <td>0.000016</td>\n",
       "      <td>0.000016</td>\n",
       "      <td>0.000016</td>\n",
       "      <td>0.000016</td>\n",
       "      <td>0.000016</td>\n",
       "      <td>0.000016</td>\n",
       "      <td>0.000016</td>\n",
       "      <td>0.000016</td>\n",
       "    </tr>\n",
       "    <tr>\n",
       "      <th>Orlando</th>\n",
       "      <th>4</th>\n",
       "      <td>0.000004</td>\n",
       "      <td>0.000004</td>\n",
       "      <td>0.000004</td>\n",
       "      <td>0.000004</td>\n",
       "      <td>0.000004</td>\n",
       "      <td>0.000004</td>\n",
       "      <td>0.000004</td>\n",
       "      <td>0.000004</td>\n",
       "      <td>0.000004</td>\n",
       "      <td>0.000004</td>\n",
       "      <td>...</td>\n",
       "      <td>0.000004</td>\n",
       "      <td>0.000004</td>\n",
       "      <td>0.000004</td>\n",
       "      <td>0.000004</td>\n",
       "      <td>0.000004</td>\n",
       "      <td>0.000004</td>\n",
       "      <td>0.000004</td>\n",
       "      <td>0.000004</td>\n",
       "      <td>0.000004</td>\n",
       "      <td>0.000004</td>\n",
       "    </tr>\n",
       "    <tr>\n",
       "      <th rowspan=\"2\" valign=\"top\">TheVoyageOut</th>\n",
       "      <th>13</th>\n",
       "      <td>0.000029</td>\n",
       "      <td>0.000029</td>\n",
       "      <td>0.000029</td>\n",
       "      <td>0.000029</td>\n",
       "      <td>0.000029</td>\n",
       "      <td>0.000029</td>\n",
       "      <td>0.000029</td>\n",
       "      <td>0.000029</td>\n",
       "      <td>0.000029</td>\n",
       "      <td>0.000029</td>\n",
       "      <td>...</td>\n",
       "      <td>0.000029</td>\n",
       "      <td>0.000029</td>\n",
       "      <td>0.000029</td>\n",
       "      <td>0.000029</td>\n",
       "      <td>0.000029</td>\n",
       "      <td>0.000029</td>\n",
       "      <td>0.000029</td>\n",
       "      <td>0.000029</td>\n",
       "      <td>0.000029</td>\n",
       "      <td>0.000029</td>\n",
       "    </tr>\n",
       "    <tr>\n",
       "      <th>22</th>\n",
       "      <td>0.000013</td>\n",
       "      <td>0.000013</td>\n",
       "      <td>0.000013</td>\n",
       "      <td>0.000013</td>\n",
       "      <td>0.000013</td>\n",
       "      <td>0.000013</td>\n",
       "      <td>0.000013</td>\n",
       "      <td>0.000013</td>\n",
       "      <td>0.000013</td>\n",
       "      <td>0.000013</td>\n",
       "      <td>...</td>\n",
       "      <td>0.000013</td>\n",
       "      <td>0.000013</td>\n",
       "      <td>0.000013</td>\n",
       "      <td>0.000013</td>\n",
       "      <td>0.000013</td>\n",
       "      <td>0.000013</td>\n",
       "      <td>0.000013</td>\n",
       "      <td>0.000013</td>\n",
       "      <td>0.000013</td>\n",
       "      <td>0.000013</td>\n",
       "    </tr>\n",
       "    <tr>\n",
       "      <th rowspan=\"2\" valign=\"top\">BetweenTheActs</th>\n",
       "      <th>11</th>\n",
       "      <td>0.000051</td>\n",
       "      <td>0.000051</td>\n",
       "      <td>0.000051</td>\n",
       "      <td>0.000051</td>\n",
       "      <td>0.000051</td>\n",
       "      <td>0.000051</td>\n",
       "      <td>0.000051</td>\n",
       "      <td>0.000051</td>\n",
       "      <td>0.998030</td>\n",
       "      <td>0.000051</td>\n",
       "      <td>...</td>\n",
       "      <td>0.000051</td>\n",
       "      <td>0.000051</td>\n",
       "      <td>0.000051</td>\n",
       "      <td>0.000051</td>\n",
       "      <td>0.000051</td>\n",
       "      <td>0.000051</td>\n",
       "      <td>0.000051</td>\n",
       "      <td>0.000051</td>\n",
       "      <td>0.000051</td>\n",
       "      <td>0.000051</td>\n",
       "    </tr>\n",
       "    <tr>\n",
       "      <th>32</th>\n",
       "      <td>0.000198</td>\n",
       "      <td>0.000198</td>\n",
       "      <td>0.000198</td>\n",
       "      <td>0.000198</td>\n",
       "      <td>0.000198</td>\n",
       "      <td>0.000198</td>\n",
       "      <td>0.000198</td>\n",
       "      <td>0.000198</td>\n",
       "      <td>0.000198</td>\n",
       "      <td>0.000198</td>\n",
       "      <td>...</td>\n",
       "      <td>0.000198</td>\n",
       "      <td>0.000198</td>\n",
       "      <td>0.000198</td>\n",
       "      <td>0.000198</td>\n",
       "      <td>0.000198</td>\n",
       "      <td>0.000198</td>\n",
       "      <td>0.000198</td>\n",
       "      <td>0.000198</td>\n",
       "      <td>0.000198</td>\n",
       "      <td>0.000198</td>\n",
       "    </tr>\n",
       "    <tr>\n",
       "      <th>Orlando</th>\n",
       "      <th>1</th>\n",
       "      <td>0.000006</td>\n",
       "      <td>0.000006</td>\n",
       "      <td>0.000006</td>\n",
       "      <td>0.000006</td>\n",
       "      <td>0.000006</td>\n",
       "      <td>0.000006</td>\n",
       "      <td>0.000006</td>\n",
       "      <td>0.000006</td>\n",
       "      <td>0.000006</td>\n",
       "      <td>0.000006</td>\n",
       "      <td>...</td>\n",
       "      <td>0.000006</td>\n",
       "      <td>0.000006</td>\n",
       "      <td>0.000006</td>\n",
       "      <td>0.000006</td>\n",
       "      <td>0.000006</td>\n",
       "      <td>0.000006</td>\n",
       "      <td>0.000006</td>\n",
       "      <td>0.000006</td>\n",
       "      <td>0.000006</td>\n",
       "      <td>0.000006</td>\n",
       "    </tr>\n",
       "    <tr>\n",
       "      <th>TheWaves</th>\n",
       "      <th>21</th>\n",
       "      <td>0.000108</td>\n",
       "      <td>0.000108</td>\n",
       "      <td>0.000108</td>\n",
       "      <td>0.000108</td>\n",
       "      <td>0.000108</td>\n",
       "      <td>0.000108</td>\n",
       "      <td>0.000108</td>\n",
       "      <td>0.000108</td>\n",
       "      <td>0.000108</td>\n",
       "      <td>0.225963</td>\n",
       "      <td>...</td>\n",
       "      <td>0.000108</td>\n",
       "      <td>0.000108</td>\n",
       "      <td>0.000108</td>\n",
       "      <td>0.000108</td>\n",
       "      <td>0.000108</td>\n",
       "      <td>0.000108</td>\n",
       "      <td>0.000108</td>\n",
       "      <td>0.000108</td>\n",
       "      <td>0.000108</td>\n",
       "      <td>0.000108</td>\n",
       "    </tr>\n",
       "  </tbody>\n",
       "</table>\n",
       "<p>10 rows × 40 columns</p>\n",
       "</div>"
      ],
      "text/plain": [
       "                             T00       T01       T02       T03       T04  \\\n",
       "book_id        chap_id                                                     \n",
       "BetweenTheActs 5        0.000117  0.000117  0.000117  0.000117  0.000117   \n",
       "Orlando        6        0.000004  0.000004  0.000004  0.000004  0.000004   \n",
       "NightAndDay    14       0.028393  0.000016  0.000016  0.000016  0.000016   \n",
       "Orlando        4        0.000004  0.000004  0.000004  0.000004  0.000004   \n",
       "TheVoyageOut   13       0.000029  0.000029  0.000029  0.000029  0.000029   \n",
       "               22       0.000013  0.000013  0.000013  0.000013  0.000013   \n",
       "BetweenTheActs 11       0.000051  0.000051  0.000051  0.000051  0.000051   \n",
       "               32       0.000198  0.000198  0.000198  0.000198  0.000198   \n",
       "Orlando        1        0.000006  0.000006  0.000006  0.000006  0.000006   \n",
       "TheWaves       21       0.000108  0.000108  0.000108  0.000108  0.000108   \n",
       "\n",
       "                             T05       T06       T07       T08       T09  ...  \\\n",
       "book_id        chap_id                                                    ...   \n",
       "BetweenTheActs 5        0.000117  0.000117  0.000117  0.000117  0.000117  ...   \n",
       "Orlando        6        0.000004  0.000004  0.000004  0.000004  0.000004  ...   \n",
       "NightAndDay    14       0.000016  0.000016  0.000016  0.000016  0.000016  ...   \n",
       "Orlando        4        0.000004  0.000004  0.000004  0.000004  0.000004  ...   \n",
       "TheVoyageOut   13       0.000029  0.000029  0.000029  0.000029  0.000029  ...   \n",
       "               22       0.000013  0.000013  0.000013  0.000013  0.000013  ...   \n",
       "BetweenTheActs 11       0.000051  0.000051  0.000051  0.998030  0.000051  ...   \n",
       "               32       0.000198  0.000198  0.000198  0.000198  0.000198  ...   \n",
       "Orlando        1        0.000006  0.000006  0.000006  0.000006  0.000006  ...   \n",
       "TheWaves       21       0.000108  0.000108  0.000108  0.000108  0.225963  ...   \n",
       "\n",
       "                             T30       T31       T32       T33       T34  \\\n",
       "book_id        chap_id                                                     \n",
       "BetweenTheActs 5        0.000117  0.000117  0.000117  0.000117  0.000117   \n",
       "Orlando        6        0.000004  0.000004  0.000004  0.000004  0.000004   \n",
       "NightAndDay    14       0.000016  0.000016  0.000016  0.000016  0.000016   \n",
       "Orlando        4        0.000004  0.000004  0.000004  0.000004  0.000004   \n",
       "TheVoyageOut   13       0.000029  0.000029  0.000029  0.000029  0.000029   \n",
       "               22       0.000013  0.000013  0.000013  0.000013  0.000013   \n",
       "BetweenTheActs 11       0.000051  0.000051  0.000051  0.000051  0.000051   \n",
       "               32       0.000198  0.000198  0.000198  0.000198  0.000198   \n",
       "Orlando        1        0.000006  0.000006  0.000006  0.000006  0.000006   \n",
       "TheWaves       21       0.000108  0.000108  0.000108  0.000108  0.000108   \n",
       "\n",
       "                             T35       T36       T37       T38       T39  \n",
       "book_id        chap_id                                                    \n",
       "BetweenTheActs 5        0.000117  0.000117  0.000117  0.995444  0.000117  \n",
       "Orlando        6        0.000004  0.000004  0.000004  0.000004  0.000004  \n",
       "NightAndDay    14       0.000016  0.000016  0.000016  0.000016  0.000016  \n",
       "Orlando        4        0.000004  0.000004  0.000004  0.000004  0.000004  \n",
       "TheVoyageOut   13       0.000029  0.000029  0.000029  0.000029  0.000029  \n",
       "               22       0.000013  0.000013  0.000013  0.000013  0.000013  \n",
       "BetweenTheActs 11       0.000051  0.000051  0.000051  0.000051  0.000051  \n",
       "               32       0.000198  0.000198  0.000198  0.000198  0.000198  \n",
       "Orlando        1        0.000006  0.000006  0.000006  0.000006  0.000006  \n",
       "TheWaves       21       0.000108  0.000108  0.000108  0.000108  0.000108  \n",
       "\n",
       "[10 rows x 40 columns]"
      ]
     },
     "execution_count": 7,
     "metadata": {},
     "output_type": "execute_result"
    }
   ],
   "source": [
    "# theta\n",
    "THETA = pd.DataFrame(lda_model, index=DOCS.index)\n",
    "THETA.columns.name = 'topic_id'\n",
    "THETA.columns = TNAMES\n",
    "\n",
    "THETA.sample(10)"
   ]
  },
  {
   "cell_type": "code",
   "execution_count": 8,
   "id": "5dfcd61e-327f-46a9-9e87-aee9d79c7ab3",
   "metadata": {},
   "outputs": [
    {
     "data": {
      "text/html": [
       "<div>\n",
       "<style scoped>\n",
       "    .dataframe tbody tr th:only-of-type {\n",
       "        vertical-align: middle;\n",
       "    }\n",
       "\n",
       "    .dataframe tbody tr th {\n",
       "        vertical-align: top;\n",
       "    }\n",
       "\n",
       "    .dataframe thead th {\n",
       "        text-align: right;\n",
       "    }\n",
       "</style>\n",
       "<table border=\"1\" class=\"dataframe\">\n",
       "  <thead>\n",
       "    <tr style=\"text-align: right;\">\n",
       "      <th>topic_id</th>\n",
       "      <th>T00</th>\n",
       "      <th>T01</th>\n",
       "      <th>T02</th>\n",
       "      <th>T03</th>\n",
       "      <th>T04</th>\n",
       "      <th>T05</th>\n",
       "      <th>T06</th>\n",
       "      <th>T07</th>\n",
       "      <th>T08</th>\n",
       "      <th>T09</th>\n",
       "      <th>...</th>\n",
       "      <th>T30</th>\n",
       "      <th>T31</th>\n",
       "      <th>T32</th>\n",
       "      <th>T33</th>\n",
       "      <th>T34</th>\n",
       "      <th>T35</th>\n",
       "      <th>T36</th>\n",
       "      <th>T37</th>\n",
       "      <th>T38</th>\n",
       "      <th>T39</th>\n",
       "    </tr>\n",
       "    <tr>\n",
       "      <th>term_str</th>\n",
       "      <th></th>\n",
       "      <th></th>\n",
       "      <th></th>\n",
       "      <th></th>\n",
       "      <th></th>\n",
       "      <th></th>\n",
       "      <th></th>\n",
       "      <th></th>\n",
       "      <th></th>\n",
       "      <th></th>\n",
       "      <th></th>\n",
       "      <th></th>\n",
       "      <th></th>\n",
       "      <th></th>\n",
       "      <th></th>\n",
       "      <th></th>\n",
       "      <th></th>\n",
       "      <th></th>\n",
       "      <th></th>\n",
       "      <th></th>\n",
       "      <th></th>\n",
       "    </tr>\n",
       "  </thead>\n",
       "  <tbody>\n",
       "    <tr>\n",
       "      <th>lend</th>\n",
       "      <td>0.025</td>\n",
       "      <td>0.025</td>\n",
       "      <td>0.025</td>\n",
       "      <td>0.025</td>\n",
       "      <td>0.025</td>\n",
       "      <td>0.025</td>\n",
       "      <td>0.025</td>\n",
       "      <td>0.025</td>\n",
       "      <td>0.025</td>\n",
       "      <td>0.025</td>\n",
       "      <td>...</td>\n",
       "      <td>0.025000</td>\n",
       "      <td>0.025</td>\n",
       "      <td>0.025</td>\n",
       "      <td>0.025</td>\n",
       "      <td>0.025</td>\n",
       "      <td>0.025</td>\n",
       "      <td>0.025</td>\n",
       "      <td>0.025</td>\n",
       "      <td>0.025</td>\n",
       "      <td>0.025</td>\n",
       "    </tr>\n",
       "    <tr>\n",
       "      <th>said wished</th>\n",
       "      <td>0.025</td>\n",
       "      <td>0.025</td>\n",
       "      <td>0.025</td>\n",
       "      <td>0.025</td>\n",
       "      <td>0.025</td>\n",
       "      <td>0.025</td>\n",
       "      <td>0.025</td>\n",
       "      <td>0.025</td>\n",
       "      <td>0.025</td>\n",
       "      <td>0.025</td>\n",
       "      <td>...</td>\n",
       "      <td>0.025000</td>\n",
       "      <td>0.025</td>\n",
       "      <td>0.025</td>\n",
       "      <td>0.025</td>\n",
       "      <td>0.025</td>\n",
       "      <td>0.025</td>\n",
       "      <td>0.025</td>\n",
       "      <td>0.025</td>\n",
       "      <td>0.025</td>\n",
       "      <td>0.025</td>\n",
       "    </tr>\n",
       "    <tr>\n",
       "      <th>sale</th>\n",
       "      <td>0.025</td>\n",
       "      <td>0.025</td>\n",
       "      <td>0.025</td>\n",
       "      <td>0.025</td>\n",
       "      <td>0.025</td>\n",
       "      <td>0.025</td>\n",
       "      <td>0.025</td>\n",
       "      <td>0.025</td>\n",
       "      <td>0.025</td>\n",
       "      <td>0.025</td>\n",
       "      <td>...</td>\n",
       "      <td>0.025000</td>\n",
       "      <td>0.025</td>\n",
       "      <td>0.025</td>\n",
       "      <td>0.025</td>\n",
       "      <td>0.025</td>\n",
       "      <td>0.025</td>\n",
       "      <td>0.025</td>\n",
       "      <td>0.025</td>\n",
       "      <td>0.025</td>\n",
       "      <td>0.025</td>\n",
       "    </tr>\n",
       "    <tr>\n",
       "      <th>wanted talk</th>\n",
       "      <td>0.025</td>\n",
       "      <td>0.025</td>\n",
       "      <td>0.025</td>\n",
       "      <td>0.025</td>\n",
       "      <td>0.025</td>\n",
       "      <td>0.025</td>\n",
       "      <td>0.025</td>\n",
       "      <td>0.025</td>\n",
       "      <td>0.025</td>\n",
       "      <td>0.025</td>\n",
       "      <td>...</td>\n",
       "      <td>0.025000</td>\n",
       "      <td>0.025</td>\n",
       "      <td>0.025</td>\n",
       "      <td>0.025</td>\n",
       "      <td>0.025</td>\n",
       "      <td>0.025</td>\n",
       "      <td>0.025</td>\n",
       "      <td>0.025</td>\n",
       "      <td>0.025</td>\n",
       "      <td>0.025</td>\n",
       "    </tr>\n",
       "    <tr>\n",
       "      <th>enlarged</th>\n",
       "      <td>0.025</td>\n",
       "      <td>0.025</td>\n",
       "      <td>0.025</td>\n",
       "      <td>0.025</td>\n",
       "      <td>0.025</td>\n",
       "      <td>0.025</td>\n",
       "      <td>0.025</td>\n",
       "      <td>0.025</td>\n",
       "      <td>0.025</td>\n",
       "      <td>0.025</td>\n",
       "      <td>...</td>\n",
       "      <td>0.025000</td>\n",
       "      <td>0.025</td>\n",
       "      <td>0.025</td>\n",
       "      <td>0.025</td>\n",
       "      <td>0.025</td>\n",
       "      <td>0.025</td>\n",
       "      <td>0.025</td>\n",
       "      <td>0.025</td>\n",
       "      <td>0.025</td>\n",
       "      <td>0.025</td>\n",
       "    </tr>\n",
       "    <tr>\n",
       "      <th>hand eyes</th>\n",
       "      <td>0.025</td>\n",
       "      <td>0.025</td>\n",
       "      <td>0.025</td>\n",
       "      <td>0.025</td>\n",
       "      <td>0.025</td>\n",
       "      <td>0.025</td>\n",
       "      <td>0.025</td>\n",
       "      <td>0.025</td>\n",
       "      <td>0.025</td>\n",
       "      <td>0.025</td>\n",
       "      <td>...</td>\n",
       "      <td>0.025000</td>\n",
       "      <td>0.025</td>\n",
       "      <td>0.025</td>\n",
       "      <td>0.025</td>\n",
       "      <td>0.025</td>\n",
       "      <td>0.025</td>\n",
       "      <td>0.025</td>\n",
       "      <td>0.025</td>\n",
       "      <td>0.025</td>\n",
       "      <td>0.025</td>\n",
       "    </tr>\n",
       "    <tr>\n",
       "      <th>edward</th>\n",
       "      <td>0.025</td>\n",
       "      <td>0.025</td>\n",
       "      <td>0.025</td>\n",
       "      <td>0.025</td>\n",
       "      <td>0.025</td>\n",
       "      <td>0.025</td>\n",
       "      <td>0.025</td>\n",
       "      <td>0.025</td>\n",
       "      <td>0.025</td>\n",
       "      <td>0.025</td>\n",
       "      <td>...</td>\n",
       "      <td>0.025000</td>\n",
       "      <td>0.025</td>\n",
       "      <td>0.025</td>\n",
       "      <td>0.025</td>\n",
       "      <td>0.025</td>\n",
       "      <td>0.025</td>\n",
       "      <td>0.025</td>\n",
       "      <td>0.025</td>\n",
       "      <td>0.025</td>\n",
       "      <td>0.025</td>\n",
       "    </tr>\n",
       "    <tr>\n",
       "      <th>swelled</th>\n",
       "      <td>0.025</td>\n",
       "      <td>0.025</td>\n",
       "      <td>0.025</td>\n",
       "      <td>0.025</td>\n",
       "      <td>1.025</td>\n",
       "      <td>0.025</td>\n",
       "      <td>0.025</td>\n",
       "      <td>0.025</td>\n",
       "      <td>0.025</td>\n",
       "      <td>0.025</td>\n",
       "      <td>...</td>\n",
       "      <td>1.018482</td>\n",
       "      <td>0.025</td>\n",
       "      <td>0.025</td>\n",
       "      <td>0.025</td>\n",
       "      <td>0.025</td>\n",
       "      <td>0.025</td>\n",
       "      <td>0.025</td>\n",
       "      <td>0.025</td>\n",
       "      <td>0.025</td>\n",
       "      <td>0.025</td>\n",
       "    </tr>\n",
       "    <tr>\n",
       "      <th>tipped</th>\n",
       "      <td>0.025</td>\n",
       "      <td>0.025</td>\n",
       "      <td>0.025</td>\n",
       "      <td>0.025</td>\n",
       "      <td>1.025</td>\n",
       "      <td>0.025</td>\n",
       "      <td>0.025</td>\n",
       "      <td>0.025</td>\n",
       "      <td>0.025</td>\n",
       "      <td>2.025</td>\n",
       "      <td>...</td>\n",
       "      <td>0.025000</td>\n",
       "      <td>0.025</td>\n",
       "      <td>0.025</td>\n",
       "      <td>0.025</td>\n",
       "      <td>0.025</td>\n",
       "      <td>0.025</td>\n",
       "      <td>0.025</td>\n",
       "      <td>0.025</td>\n",
       "      <td>0.025</td>\n",
       "      <td>0.025</td>\n",
       "    </tr>\n",
       "    <tr>\n",
       "      <th>flinched</th>\n",
       "      <td>0.025</td>\n",
       "      <td>0.025</td>\n",
       "      <td>0.025</td>\n",
       "      <td>0.025</td>\n",
       "      <td>0.025</td>\n",
       "      <td>0.025</td>\n",
       "      <td>0.025</td>\n",
       "      <td>0.025</td>\n",
       "      <td>0.025</td>\n",
       "      <td>0.025</td>\n",
       "      <td>...</td>\n",
       "      <td>0.025000</td>\n",
       "      <td>0.025</td>\n",
       "      <td>0.025</td>\n",
       "      <td>0.025</td>\n",
       "      <td>0.025</td>\n",
       "      <td>0.025</td>\n",
       "      <td>0.025</td>\n",
       "      <td>0.025</td>\n",
       "      <td>0.025</td>\n",
       "      <td>0.025</td>\n",
       "    </tr>\n",
       "  </tbody>\n",
       "</table>\n",
       "<p>10 rows × 40 columns</p>\n",
       "</div>"
      ],
      "text/plain": [
       "topic_id       T00    T01    T02    T03    T04    T05    T06    T07    T08  \\\n",
       "term_str                                                                     \n",
       "lend         0.025  0.025  0.025  0.025  0.025  0.025  0.025  0.025  0.025   \n",
       "said wished  0.025  0.025  0.025  0.025  0.025  0.025  0.025  0.025  0.025   \n",
       "sale         0.025  0.025  0.025  0.025  0.025  0.025  0.025  0.025  0.025   \n",
       "wanted talk  0.025  0.025  0.025  0.025  0.025  0.025  0.025  0.025  0.025   \n",
       "enlarged     0.025  0.025  0.025  0.025  0.025  0.025  0.025  0.025  0.025   \n",
       "hand eyes    0.025  0.025  0.025  0.025  0.025  0.025  0.025  0.025  0.025   \n",
       "edward       0.025  0.025  0.025  0.025  0.025  0.025  0.025  0.025  0.025   \n",
       "swelled      0.025  0.025  0.025  0.025  1.025  0.025  0.025  0.025  0.025   \n",
       "tipped       0.025  0.025  0.025  0.025  1.025  0.025  0.025  0.025  0.025   \n",
       "flinched     0.025  0.025  0.025  0.025  0.025  0.025  0.025  0.025  0.025   \n",
       "\n",
       "topic_id       T09  ...       T30    T31    T32    T33    T34    T35    T36  \\\n",
       "term_str            ...                                                       \n",
       "lend         0.025  ...  0.025000  0.025  0.025  0.025  0.025  0.025  0.025   \n",
       "said wished  0.025  ...  0.025000  0.025  0.025  0.025  0.025  0.025  0.025   \n",
       "sale         0.025  ...  0.025000  0.025  0.025  0.025  0.025  0.025  0.025   \n",
       "wanted talk  0.025  ...  0.025000  0.025  0.025  0.025  0.025  0.025  0.025   \n",
       "enlarged     0.025  ...  0.025000  0.025  0.025  0.025  0.025  0.025  0.025   \n",
       "hand eyes    0.025  ...  0.025000  0.025  0.025  0.025  0.025  0.025  0.025   \n",
       "edward       0.025  ...  0.025000  0.025  0.025  0.025  0.025  0.025  0.025   \n",
       "swelled      0.025  ...  1.018482  0.025  0.025  0.025  0.025  0.025  0.025   \n",
       "tipped       2.025  ...  0.025000  0.025  0.025  0.025  0.025  0.025  0.025   \n",
       "flinched     0.025  ...  0.025000  0.025  0.025  0.025  0.025  0.025  0.025   \n",
       "\n",
       "topic_id       T37    T38    T39  \n",
       "term_str                          \n",
       "lend         0.025  0.025  0.025  \n",
       "said wished  0.025  0.025  0.025  \n",
       "sale         0.025  0.025  0.025  \n",
       "wanted talk  0.025  0.025  0.025  \n",
       "enlarged     0.025  0.025  0.025  \n",
       "hand eyes    0.025  0.025  0.025  \n",
       "edward       0.025  0.025  0.025  \n",
       "swelled      0.025  0.025  0.025  \n",
       "tipped       0.025  0.025  0.025  \n",
       "flinched     0.025  0.025  0.025  \n",
       "\n",
       "[10 rows x 40 columns]"
      ]
     },
     "execution_count": 8,
     "metadata": {},
     "output_type": "execute_result"
    }
   ],
   "source": [
    "# phi\n",
    "PHI = pd.DataFrame(lda_engine.components_, columns=TERMS, index=TNAMES)\n",
    "PHI.index.name = 'topic_id'\n",
    "PHI.columns.name = 'term_str'\n",
    "\n",
    "PHI.T.sample(10)"
   ]
  },
  {
   "cell_type": "code",
   "execution_count": 9,
   "id": "f66349c4-8e6a-45a8-aa2a-7cdc417f5772",
   "metadata": {},
   "outputs": [
    {
     "data": {
      "text/html": [
       "<div>\n",
       "<style scoped>\n",
       "    .dataframe tbody tr th:only-of-type {\n",
       "        vertical-align: middle;\n",
       "    }\n",
       "\n",
       "    .dataframe tbody tr th {\n",
       "        vertical-align: top;\n",
       "    }\n",
       "\n",
       "    .dataframe thead th {\n",
       "        text-align: right;\n",
       "    }\n",
       "</style>\n",
       "<table border=\"1\" class=\"dataframe\">\n",
       "  <thead>\n",
       "    <tr style=\"text-align: right;\">\n",
       "      <th></th>\n",
       "      <th>top_terms</th>\n",
       "    </tr>\n",
       "    <tr>\n",
       "      <th>topic_id</th>\n",
       "      <th></th>\n",
       "    </tr>\n",
       "  </thead>\n",
       "  <tbody>\n",
       "    <tr>\n",
       "      <th>T00</th>\n",
       "      <td>committee said sparrows came come</td>\n",
       "    </tr>\n",
       "    <tr>\n",
       "      <th>T01</th>\n",
       "      <td>aback rapid rang bell range ranged</td>\n",
       "    </tr>\n",
       "    <tr>\n",
       "      <th>T02</th>\n",
       "      <td>eyes said face head change</td>\n",
       "    </tr>\n",
       "    <tr>\n",
       "      <th>T03</th>\n",
       "      <td>boots things come said table</td>\n",
       "    </tr>\n",
       "    <tr>\n",
       "      <th>T04</th>\n",
       "      <td>said trees eyes light sea</td>\n",
       "    </tr>\n",
       "  </tbody>\n",
       "</table>\n",
       "</div>"
      ],
      "text/plain": [
       "                                   top_terms\n",
       "topic_id                                    \n",
       "T00        committee said sparrows came come\n",
       "T01       aback rapid rang bell range ranged\n",
       "T02               eyes said face head change\n",
       "T03             boots things come said table\n",
       "T04                said trees eyes light sea"
      ]
     },
     "execution_count": 9,
     "metadata": {},
     "output_type": "execute_result"
    }
   ],
   "source": [
    "# topics\n",
    "TOPICS = PHI.stack().groupby('topic_id')\\\n",
    "    .apply(lambda x: ' '.join(x.sort_values(ascending=False).head(5).reset_index().term_str))\\\n",
    "    .to_frame('top_terms')\n",
    "\n",
    "TOPICS.head(5)"
   ]
  },
  {
   "cell_type": "code",
   "execution_count": 10,
   "id": "706a9a57-3b0a-4255-98bb-e0c313b11ca7",
   "metadata": {},
   "outputs": [
    {
     "data": {
      "text/html": [
       "<div>\n",
       "<style scoped>\n",
       "    .dataframe tbody tr th:only-of-type {\n",
       "        vertical-align: middle;\n",
       "    }\n",
       "\n",
       "    .dataframe tbody tr th {\n",
       "        vertical-align: top;\n",
       "    }\n",
       "\n",
       "    .dataframe thead th {\n",
       "        text-align: right;\n",
       "    }\n",
       "</style>\n",
       "<table border=\"1\" class=\"dataframe\">\n",
       "  <thead>\n",
       "    <tr style=\"text-align: right;\">\n",
       "      <th></th>\n",
       "      <th>top_terms</th>\n",
       "      <th>doc_weight_sum</th>\n",
       "      <th>term_freq</th>\n",
       "    </tr>\n",
       "    <tr>\n",
       "      <th>topic_id</th>\n",
       "      <th></th>\n",
       "      <th></th>\n",
       "      <th></th>\n",
       "    </tr>\n",
       "  </thead>\n",
       "  <tbody>\n",
       "    <tr>\n",
       "      <th>T26</th>\n",
       "      <td>said thought little looked did</td>\n",
       "      <td>99.410487</td>\n",
       "      <td>0.651429</td>\n",
       "    </tr>\n",
       "    <tr>\n",
       "      <th>T20</th>\n",
       "      <td>think dont mind time life</td>\n",
       "      <td>19.568031</td>\n",
       "      <td>0.090572</td>\n",
       "    </tr>\n",
       "    <tr>\n",
       "      <th>T21</th>\n",
       "      <td>come let look make moment</td>\n",
       "      <td>10.656986</td>\n",
       "      <td>0.050434</td>\n",
       "    </tr>\n",
       "    <tr>\n",
       "      <th>T27</th>\n",
       "      <td>life great say woman come</td>\n",
       "      <td>9.110241</td>\n",
       "      <td>0.048914</td>\n",
       "    </tr>\n",
       "    <tr>\n",
       "      <th>T04</th>\n",
       "      <td>said trees eyes light sea</td>\n",
       "      <td>8.530569</td>\n",
       "      <td>0.018425</td>\n",
       "    </tr>\n",
       "  </tbody>\n",
       "</table>\n",
       "</div>"
      ],
      "text/plain": [
       "                               top_terms  doc_weight_sum  term_freq\n",
       "topic_id                                                           \n",
       "T26       said thought little looked did       99.410487   0.651429\n",
       "T20            think dont mind time life       19.568031   0.090572\n",
       "T21            come let look make moment       10.656986   0.050434\n",
       "T27            life great say woman come        9.110241   0.048914\n",
       "T04            said trees eyes light sea        8.530569   0.018425"
      ]
     },
     "execution_count": 10,
     "metadata": {},
     "output_type": "execute_result"
    }
   ],
   "source": [
    "# sort by mean document weight\n",
    "TOPICS['doc_weight_sum'] = THETA.sum()\n",
    "TOPICS['term_freq'] = PHI.sum(1) / PHI.sum(1).sum()\n",
    "TOPICS.sort_values('doc_weight_sum', ascending=False).head(5)"
   ]
  },
  {
   "cell_type": "markdown",
   "id": "4cf04864-fdba-4d4d-9a00-115b9000f768",
   "metadata": {},
   "source": [
    "## LDA + PCA Visualization\n",
    "\n",
    "Apply PCA to the PHI table and plot the topics in the space opened by the first two components.\n",
    "\n",
    "Size the points based on the mean document weight of each topic (using the THETA table).\n",
    "\n",
    "Color the points basd on a metadata feature from the LIB table."
   ]
  },
  {
   "cell_type": "code",
   "execution_count": 19,
   "id": "e2f4cbf5-cca3-4f88-aad0-3428a74f68c5",
   "metadata": {},
   "outputs": [],
   "source": [
    "# apply PCA to normalized PHI table\n",
    "phi_normalized = normalize(PHI, norm='l2', axis=1)\n",
    "phi_pca = PCA(2).fit_transform(phi_normalized)"
   ]
  },
  {
   "cell_type": "code",
   "execution_count": 31,
   "id": "4304ea31-e5c9-4f62-a5ce-b1a28a7ff0ac",
   "metadata": {},
   "outputs": [
    {
     "data": {
      "application/vnd.plotly.v1+json": {
       "config": {
        "plotlyServerURL": "https://plot.ly"
       },
       "data": [
        {
         "customdata": [
          [
           1919,
           3.75,
           "NightAndDay"
          ],
          [
           1931,
           4.15,
           "TheWaves"
          ],
          [
           1931,
           4.15,
           "TheWaves"
          ],
          [
           1927,
           3.78,
           "ToTheLighthouse"
          ],
          [
           1927,
           3.78,
           "ToTheLighthouse"
          ],
          [
           1941,
           3.61,
           "BetweenTheActs"
          ],
          [
           1915,
           3.75,
           "TheVoyageOut"
          ],
          [
           1941,
           3.61,
           "BetweenTheActs"
          ],
          [
           1941,
           3.61,
           "BetweenTheActs"
          ],
          [
           1931,
           4.15,
           "TheWaves"
          ],
          [
           1941,
           3.61,
           "BetweenTheActs"
          ],
          [
           1931,
           4.15,
           "TheWaves"
          ],
          [
           1941,
           3.61,
           "BetweenTheActs"
          ],
          [
           1931,
           4.15,
           "TheWaves"
          ],
          [
           1931,
           4.15,
           "TheWaves"
          ],
          [
           1941,
           3.61,
           "BetweenTheActs"
          ],
          [
           1931,
           4.15,
           "TheWaves"
          ],
          [
           1915,
           3.75,
           "TheVoyageOut"
          ],
          [
           1931,
           4.15,
           "TheWaves"
          ],
          [
           1931,
           4.15,
           "TheWaves"
          ],
          [
           1919,
           3.75,
           "NightAndDay"
          ],
          [
           1931,
           4.15,
           "TheWaves"
          ],
          [
           1933,
           3.87,
           "Flush"
          ],
          [
           1927,
           3.78,
           "ToTheLighthouse"
          ],
          [
           1922,
           3.69,
           "JacobsRoom"
          ],
          [
           1933,
           3.87,
           "Flush"
          ],
          [
           1937,
           3.77,
           "TheYears"
          ],
          [
           1928,
           3.86,
           "Orlando"
          ],
          [
           1925,
           3.73,
           "MrsDalloway"
          ],
          [
           1931,
           4.15,
           "TheWaves"
          ],
          [
           1941,
           3.61,
           "BetweenTheActs"
          ],
          [
           1927,
           3.78,
           "ToTheLighthouse"
          ],
          [
           1927,
           3.78,
           "ToTheLighthouse"
          ],
          [
           1931,
           4.15,
           "TheWaves"
          ],
          [
           1931,
           4.15,
           "TheWaves"
          ],
          [
           1931,
           4.15,
           "TheWaves"
          ],
          [
           1941,
           3.61,
           "BetweenTheActs"
          ],
          [
           1931,
           4.15,
           "TheWaves"
          ],
          [
           1941,
           3.61,
           "BetweenTheActs"
          ],
          [
           1941,
           3.61,
           "BetweenTheActs"
          ]
         ],
         "hovertemplate": "<b>%{hovertext}</b><br><br>PC0=%{x}<br>PC1=%{y}<br>mean_doc_weight=%{marker.size}<br>year=%{customdata[0]}<br>goodreads=%{marker.color}<br>book_id=%{customdata[2]}<extra></extra>",
         "hovertext": [
          "committee said sparrows came come",
          "aback rapid rang bell range ranged",
          "eyes said face head change",
          "boots things come said table",
          "said trees eyes light sea",
          "audience play thats chuff looked",
          "said say did picture let",
          "kitchen said room cut cat",
          "said did man dog silence",
          "green sun light white blue",
          "said old came time audience",
          "aback rapid rang bell range ranged",
          "trees silver fine pacing red",
          "light rose sun tree shadows",
          "aback rapid rang bell range ranged",
          "old man flower turned paper",
          "said leaves white eyes tree",
          "read time trees night hand",
          "aback rapid rang bell range ranged",
          "aback rapid rang bell range ranged",
          "think dont mind time life",
          "come let look make moment",
          "spaniel door family called dogs",
          "said old did choose felt",
          "letters life wrote street come",
          "came went dog room dogs",
          "said thought little looked did",
          "life great say woman come",
          "darkness sea solitary summer traveller",
          "blew wind lay corn reddened",
          "said words trees tree grass",
          "considering said did yes yes said",
          "trying deference said trying little man semblance",
          "aback rapid rang bell range ranged",
          "bee men inscribed said head",
          "aback rapid rang bell range ranged",
          "said little audience pen held",
          "aback rapid rang bell range ranged",
          "car aeroplane motor motor car smoke",
          "water felt view head cold"
         ],
         "legendgroup": "",
         "marker": {
          "color": [
           3.75,
           4.15,
           4.15,
           3.78,
           3.78,
           3.61,
           3.75,
           3.61,
           3.61,
           4.15,
           3.61,
           4.15,
           3.61,
           4.15,
           4.15,
           3.61,
           4.15,
           3.75,
           4.15,
           4.15,
           3.75,
           4.15,
           3.87,
           3.78,
           3.69,
           3.87,
           3.77,
           3.86,
           3.73,
           4.15,
           3.61,
           3.78,
           3.78,
           4.15,
           4.15,
           4.15,
           3.61,
           4.15,
           3.61,
           3.61
          ],
          "coloraxis": "coloraxis",
          "size": [
           0.0037347022493617837,
           0.0001063196899619703,
           0.0096348885641074,
           0.006205943540765747,
           0.04081612074813488,
           0.01926553868122836,
           0.008148482815595309,
           0.010596780324821482,
           0.010034439094152945,
           0.02008446393412454,
           0.032330055463875004,
           0.0001063196899619703,
           0.004872534982493026,
           0.009923902186369953,
           0.0001063196899619703,
           0.004876465557532249,
           0.017727611212630806,
           0.014790007722315613,
           0.0001063196899619703,
           0.0001063196899619703,
           0.09362694398125701,
           0.05099036443586308,
           0.013128940304320075,
           0.005751737880090391,
           0.0017731212725613035,
           0.03234592715479825,
           0.47564826437906593,
           0.043589669385997454,
           0.014406308948628259,
           0.0030950493572176234,
           0.018061975869364214,
           0.004492284602242633,
           0.004625192629887515,
           0.0001063196899619703,
           0.004875722138866688,
           0.0001063196899619703,
           0.004874041702924743,
           0.0001063196899619703,
           0.009948102097454265,
           0.004873859262255361
          ],
          "sizemode": "area",
          "sizeref": 0.0011891206609476648,
          "symbol": "circle"
         },
         "mode": "markers",
         "name": "",
         "orientation": "v",
         "showlegend": false,
         "type": "scatter",
         "x": [
          0.1283518951716307,
          -0.6855232747207773,
          0.2534746587846672,
          0.18450734686227827,
          0.31434542757063927,
          0.21492033113977752,
          0.23435933134370882,
          0.2033208008814075,
          0.2472476621318968,
          0.20283111422467714,
          0.32890112657516835,
          -0.6855232747207773,
          0.09391021929847812,
          0.11516446001337483,
          -0.6855232747207773,
          0.161746836500913,
          0.356842238214159,
          0.23830210613522076,
          -0.6855232747207773,
          -0.6855232747207773,
          0.26302488717990274,
          0.23656334350212974,
          0.18464686456558,
          0.26247671133356526,
          0.038429575290554276,
          0.23672026201706597,
          0.3852788200838226,
          0.24762761145674347,
          0.16964880544326486,
          -0.054943912805270514,
          0.2625081668342249,
          -0.314440473387074,
          -0.25241367492268624,
          -0.6855232747207773,
          0.09893929781412981,
          -0.6855232747207773,
          0.20119037360858089,
          -0.6855232747207773,
          0.12762710297546084,
          0.11307688192822835
         ],
         "xaxis": "x",
         "y": [
          0.16183255521774723,
          0.019734646166904454,
          -0.03579817428053711,
          0.06853175550354242,
          -0.0787306594016943,
          -0.07894774416223062,
          0.31271328117751845,
          0.05955706974414928,
          0.27612376057691596,
          -0.546458726624475,
          0.16488808848697156,
          0.019734646166904325,
          -0.19554593952668411,
          -0.47436717013447477,
          0.019734646166904325,
          -0.14162669865172797,
          0.003297725367112406,
          0.017090357197344416,
          0.019734646166904325,
          0.019734646166904325,
          0.3741555793747403,
          -0.15023669874436216,
          -0.05339690760977102,
          0.37834285907495546,
          -0.245328378410827,
          -0.01744457516532863,
          0.38265594560054916,
          -0.066237737774032,
          -0.32038623592592164,
          -0.31107738254136574,
          -0.10613155423691845,
          0.2328810710831332,
          0.17671322083464136,
          0.019734646166904325,
          0.024349329154140203,
          0.019734646166904325,
          0.33716350779356496,
          0.019734646166904325,
          -0.22197319381064537,
          -0.08448549852126508
         ],
         "yaxis": "y"
        }
       ],
       "layout": {
        "coloraxis": {
         "colorbar": {
          "title": {
           "text": "goodreads"
          }
         },
         "colorscale": [
          [
           0,
           "#0d0887"
          ],
          [
           0.1111111111111111,
           "#46039f"
          ],
          [
           0.2222222222222222,
           "#7201a8"
          ],
          [
           0.3333333333333333,
           "#9c179e"
          ],
          [
           0.4444444444444444,
           "#bd3786"
          ],
          [
           0.5555555555555556,
           "#d8576b"
          ],
          [
           0.6666666666666666,
           "#ed7953"
          ],
          [
           0.7777777777777778,
           "#fb9f3a"
          ],
          [
           0.8888888888888888,
           "#fdca26"
          ],
          [
           1,
           "#f0f921"
          ]
         ]
        },
        "height": 600,
        "legend": {
         "itemsizing": "constant",
         "tracegroupgap": 0
        },
        "margin": {
         "t": 60
        },
        "template": {
         "data": {
          "bar": [
           {
            "error_x": {
             "color": "#2a3f5f"
            },
            "error_y": {
             "color": "#2a3f5f"
            },
            "marker": {
             "line": {
              "color": "#E5ECF6",
              "width": 0.5
             },
             "pattern": {
              "fillmode": "overlay",
              "size": 10,
              "solidity": 0.2
             }
            },
            "type": "bar"
           }
          ],
          "barpolar": [
           {
            "marker": {
             "line": {
              "color": "#E5ECF6",
              "width": 0.5
             },
             "pattern": {
              "fillmode": "overlay",
              "size": 10,
              "solidity": 0.2
             }
            },
            "type": "barpolar"
           }
          ],
          "carpet": [
           {
            "aaxis": {
             "endlinecolor": "#2a3f5f",
             "gridcolor": "white",
             "linecolor": "white",
             "minorgridcolor": "white",
             "startlinecolor": "#2a3f5f"
            },
            "baxis": {
             "endlinecolor": "#2a3f5f",
             "gridcolor": "white",
             "linecolor": "white",
             "minorgridcolor": "white",
             "startlinecolor": "#2a3f5f"
            },
            "type": "carpet"
           }
          ],
          "choropleth": [
           {
            "colorbar": {
             "outlinewidth": 0,
             "ticks": ""
            },
            "type": "choropleth"
           }
          ],
          "contour": [
           {
            "colorbar": {
             "outlinewidth": 0,
             "ticks": ""
            },
            "colorscale": [
             [
              0,
              "#0d0887"
             ],
             [
              0.1111111111111111,
              "#46039f"
             ],
             [
              0.2222222222222222,
              "#7201a8"
             ],
             [
              0.3333333333333333,
              "#9c179e"
             ],
             [
              0.4444444444444444,
              "#bd3786"
             ],
             [
              0.5555555555555556,
              "#d8576b"
             ],
             [
              0.6666666666666666,
              "#ed7953"
             ],
             [
              0.7777777777777778,
              "#fb9f3a"
             ],
             [
              0.8888888888888888,
              "#fdca26"
             ],
             [
              1,
              "#f0f921"
             ]
            ],
            "type": "contour"
           }
          ],
          "contourcarpet": [
           {
            "colorbar": {
             "outlinewidth": 0,
             "ticks": ""
            },
            "type": "contourcarpet"
           }
          ],
          "heatmap": [
           {
            "colorbar": {
             "outlinewidth": 0,
             "ticks": ""
            },
            "colorscale": [
             [
              0,
              "#0d0887"
             ],
             [
              0.1111111111111111,
              "#46039f"
             ],
             [
              0.2222222222222222,
              "#7201a8"
             ],
             [
              0.3333333333333333,
              "#9c179e"
             ],
             [
              0.4444444444444444,
              "#bd3786"
             ],
             [
              0.5555555555555556,
              "#d8576b"
             ],
             [
              0.6666666666666666,
              "#ed7953"
             ],
             [
              0.7777777777777778,
              "#fb9f3a"
             ],
             [
              0.8888888888888888,
              "#fdca26"
             ],
             [
              1,
              "#f0f921"
             ]
            ],
            "type": "heatmap"
           }
          ],
          "heatmapgl": [
           {
            "colorbar": {
             "outlinewidth": 0,
             "ticks": ""
            },
            "colorscale": [
             [
              0,
              "#0d0887"
             ],
             [
              0.1111111111111111,
              "#46039f"
             ],
             [
              0.2222222222222222,
              "#7201a8"
             ],
             [
              0.3333333333333333,
              "#9c179e"
             ],
             [
              0.4444444444444444,
              "#bd3786"
             ],
             [
              0.5555555555555556,
              "#d8576b"
             ],
             [
              0.6666666666666666,
              "#ed7953"
             ],
             [
              0.7777777777777778,
              "#fb9f3a"
             ],
             [
              0.8888888888888888,
              "#fdca26"
             ],
             [
              1,
              "#f0f921"
             ]
            ],
            "type": "heatmapgl"
           }
          ],
          "histogram": [
           {
            "marker": {
             "pattern": {
              "fillmode": "overlay",
              "size": 10,
              "solidity": 0.2
             }
            },
            "type": "histogram"
           }
          ],
          "histogram2d": [
           {
            "colorbar": {
             "outlinewidth": 0,
             "ticks": ""
            },
            "colorscale": [
             [
              0,
              "#0d0887"
             ],
             [
              0.1111111111111111,
              "#46039f"
             ],
             [
              0.2222222222222222,
              "#7201a8"
             ],
             [
              0.3333333333333333,
              "#9c179e"
             ],
             [
              0.4444444444444444,
              "#bd3786"
             ],
             [
              0.5555555555555556,
              "#d8576b"
             ],
             [
              0.6666666666666666,
              "#ed7953"
             ],
             [
              0.7777777777777778,
              "#fb9f3a"
             ],
             [
              0.8888888888888888,
              "#fdca26"
             ],
             [
              1,
              "#f0f921"
             ]
            ],
            "type": "histogram2d"
           }
          ],
          "histogram2dcontour": [
           {
            "colorbar": {
             "outlinewidth": 0,
             "ticks": ""
            },
            "colorscale": [
             [
              0,
              "#0d0887"
             ],
             [
              0.1111111111111111,
              "#46039f"
             ],
             [
              0.2222222222222222,
              "#7201a8"
             ],
             [
              0.3333333333333333,
              "#9c179e"
             ],
             [
              0.4444444444444444,
              "#bd3786"
             ],
             [
              0.5555555555555556,
              "#d8576b"
             ],
             [
              0.6666666666666666,
              "#ed7953"
             ],
             [
              0.7777777777777778,
              "#fb9f3a"
             ],
             [
              0.8888888888888888,
              "#fdca26"
             ],
             [
              1,
              "#f0f921"
             ]
            ],
            "type": "histogram2dcontour"
           }
          ],
          "mesh3d": [
           {
            "colorbar": {
             "outlinewidth": 0,
             "ticks": ""
            },
            "type": "mesh3d"
           }
          ],
          "parcoords": [
           {
            "line": {
             "colorbar": {
              "outlinewidth": 0,
              "ticks": ""
             }
            },
            "type": "parcoords"
           }
          ],
          "pie": [
           {
            "automargin": true,
            "type": "pie"
           }
          ],
          "scatter": [
           {
            "fillpattern": {
             "fillmode": "overlay",
             "size": 10,
             "solidity": 0.2
            },
            "type": "scatter"
           }
          ],
          "scatter3d": [
           {
            "line": {
             "colorbar": {
              "outlinewidth": 0,
              "ticks": ""
             }
            },
            "marker": {
             "colorbar": {
              "outlinewidth": 0,
              "ticks": ""
             }
            },
            "type": "scatter3d"
           }
          ],
          "scattercarpet": [
           {
            "marker": {
             "colorbar": {
              "outlinewidth": 0,
              "ticks": ""
             }
            },
            "type": "scattercarpet"
           }
          ],
          "scattergeo": [
           {
            "marker": {
             "colorbar": {
              "outlinewidth": 0,
              "ticks": ""
             }
            },
            "type": "scattergeo"
           }
          ],
          "scattergl": [
           {
            "marker": {
             "colorbar": {
              "outlinewidth": 0,
              "ticks": ""
             }
            },
            "type": "scattergl"
           }
          ],
          "scattermapbox": [
           {
            "marker": {
             "colorbar": {
              "outlinewidth": 0,
              "ticks": ""
             }
            },
            "type": "scattermapbox"
           }
          ],
          "scatterpolar": [
           {
            "marker": {
             "colorbar": {
              "outlinewidth": 0,
              "ticks": ""
             }
            },
            "type": "scatterpolar"
           }
          ],
          "scatterpolargl": [
           {
            "marker": {
             "colorbar": {
              "outlinewidth": 0,
              "ticks": ""
             }
            },
            "type": "scatterpolargl"
           }
          ],
          "scatterternary": [
           {
            "marker": {
             "colorbar": {
              "outlinewidth": 0,
              "ticks": ""
             }
            },
            "type": "scatterternary"
           }
          ],
          "surface": [
           {
            "colorbar": {
             "outlinewidth": 0,
             "ticks": ""
            },
            "colorscale": [
             [
              0,
              "#0d0887"
             ],
             [
              0.1111111111111111,
              "#46039f"
             ],
             [
              0.2222222222222222,
              "#7201a8"
             ],
             [
              0.3333333333333333,
              "#9c179e"
             ],
             [
              0.4444444444444444,
              "#bd3786"
             ],
             [
              0.5555555555555556,
              "#d8576b"
             ],
             [
              0.6666666666666666,
              "#ed7953"
             ],
             [
              0.7777777777777778,
              "#fb9f3a"
             ],
             [
              0.8888888888888888,
              "#fdca26"
             ],
             [
              1,
              "#f0f921"
             ]
            ],
            "type": "surface"
           }
          ],
          "table": [
           {
            "cells": {
             "fill": {
              "color": "#EBF0F8"
             },
             "line": {
              "color": "white"
             }
            },
            "header": {
             "fill": {
              "color": "#C8D4E3"
             },
             "line": {
              "color": "white"
             }
            },
            "type": "table"
           }
          ]
         },
         "layout": {
          "annotationdefaults": {
           "arrowcolor": "#2a3f5f",
           "arrowhead": 0,
           "arrowwidth": 1
          },
          "autotypenumbers": "strict",
          "coloraxis": {
           "colorbar": {
            "outlinewidth": 0,
            "ticks": ""
           }
          },
          "colorscale": {
           "diverging": [
            [
             0,
             "#8e0152"
            ],
            [
             0.1,
             "#c51b7d"
            ],
            [
             0.2,
             "#de77ae"
            ],
            [
             0.3,
             "#f1b6da"
            ],
            [
             0.4,
             "#fde0ef"
            ],
            [
             0.5,
             "#f7f7f7"
            ],
            [
             0.6,
             "#e6f5d0"
            ],
            [
             0.7,
             "#b8e186"
            ],
            [
             0.8,
             "#7fbc41"
            ],
            [
             0.9,
             "#4d9221"
            ],
            [
             1,
             "#276419"
            ]
           ],
           "sequential": [
            [
             0,
             "#0d0887"
            ],
            [
             0.1111111111111111,
             "#46039f"
            ],
            [
             0.2222222222222222,
             "#7201a8"
            ],
            [
             0.3333333333333333,
             "#9c179e"
            ],
            [
             0.4444444444444444,
             "#bd3786"
            ],
            [
             0.5555555555555556,
             "#d8576b"
            ],
            [
             0.6666666666666666,
             "#ed7953"
            ],
            [
             0.7777777777777778,
             "#fb9f3a"
            ],
            [
             0.8888888888888888,
             "#fdca26"
            ],
            [
             1,
             "#f0f921"
            ]
           ],
           "sequentialminus": [
            [
             0,
             "#0d0887"
            ],
            [
             0.1111111111111111,
             "#46039f"
            ],
            [
             0.2222222222222222,
             "#7201a8"
            ],
            [
             0.3333333333333333,
             "#9c179e"
            ],
            [
             0.4444444444444444,
             "#bd3786"
            ],
            [
             0.5555555555555556,
             "#d8576b"
            ],
            [
             0.6666666666666666,
             "#ed7953"
            ],
            [
             0.7777777777777778,
             "#fb9f3a"
            ],
            [
             0.8888888888888888,
             "#fdca26"
            ],
            [
             1,
             "#f0f921"
            ]
           ]
          },
          "colorway": [
           "#636efa",
           "#EF553B",
           "#00cc96",
           "#ab63fa",
           "#FFA15A",
           "#19d3f3",
           "#FF6692",
           "#B6E880",
           "#FF97FF",
           "#FECB52"
          ],
          "font": {
           "color": "#2a3f5f"
          },
          "geo": {
           "bgcolor": "white",
           "lakecolor": "white",
           "landcolor": "#E5ECF6",
           "showlakes": true,
           "showland": true,
           "subunitcolor": "white"
          },
          "hoverlabel": {
           "align": "left"
          },
          "hovermode": "closest",
          "mapbox": {
           "style": "light"
          },
          "paper_bgcolor": "white",
          "plot_bgcolor": "#E5ECF6",
          "polar": {
           "angularaxis": {
            "gridcolor": "white",
            "linecolor": "white",
            "ticks": ""
           },
           "bgcolor": "#E5ECF6",
           "radialaxis": {
            "gridcolor": "white",
            "linecolor": "white",
            "ticks": ""
           }
          },
          "scene": {
           "xaxis": {
            "backgroundcolor": "#E5ECF6",
            "gridcolor": "white",
            "gridwidth": 2,
            "linecolor": "white",
            "showbackground": true,
            "ticks": "",
            "zerolinecolor": "white"
           },
           "yaxis": {
            "backgroundcolor": "#E5ECF6",
            "gridcolor": "white",
            "gridwidth": 2,
            "linecolor": "white",
            "showbackground": true,
            "ticks": "",
            "zerolinecolor": "white"
           },
           "zaxis": {
            "backgroundcolor": "#E5ECF6",
            "gridcolor": "white",
            "gridwidth": 2,
            "linecolor": "white",
            "showbackground": true,
            "ticks": "",
            "zerolinecolor": "white"
           }
          },
          "shapedefaults": {
           "line": {
            "color": "#2a3f5f"
           }
          },
          "ternary": {
           "aaxis": {
            "gridcolor": "white",
            "linecolor": "white",
            "ticks": ""
           },
           "baxis": {
            "gridcolor": "white",
            "linecolor": "white",
            "ticks": ""
           },
           "bgcolor": "#E5ECF6",
           "caxis": {
            "gridcolor": "white",
            "linecolor": "white",
            "ticks": ""
           }
          },
          "title": {
           "x": 0.05
          },
          "xaxis": {
           "automargin": true,
           "gridcolor": "white",
           "linecolor": "white",
           "ticks": "",
           "title": {
            "standoff": 15
           },
           "zerolinecolor": "white",
           "zerolinewidth": 2
          },
          "yaxis": {
           "automargin": true,
           "gridcolor": "white",
           "linecolor": "white",
           "ticks": "",
           "title": {
            "standoff": 15
           },
           "zerolinecolor": "white",
           "zerolinewidth": 2
          }
         }
        },
        "width": 700,
        "xaxis": {
         "anchor": "y",
         "autorange": true,
         "domain": [
          0,
          1
         ],
         "range": [
          -0.7549539606876569,
          0.4861963548264723
         ],
         "title": {
          "text": "PC0"
         },
         "type": "linear"
        },
        "yaxis": {
         "anchor": "x",
         "autorange": true,
         "domain": [
          0,
          1
         ],
         "range": [
          -0.6082109175603013,
          0.47396163980113576
         ],
         "title": {
          "text": "PC1"
         },
         "type": "linear"
        }
       }
      },
      "image/png": "[encoded data removed]",
      "text/html": [
       "<div>                            <div id=\"d33adb99-bf94-4667-af6d-0413b1b87d59\" class=\"plotly-graph-div\" style=\"height:600px; width:700px;\"></div>            <script type=\"text/javascript\">                require([\"plotly\"], function(Plotly) {                    window.PLOTLYENV=window.PLOTLYENV || {};                                    if (document.getElementById(\"d33adb99-bf94-4667-af6d-0413b1b87d59\")) {                    Plotly.newPlot(                        \"d33adb99-bf94-4667-af6d-0413b1b87d59\",                        [{\"customdata\":[[1919,3.75,\"NightAndDay\"],[1931,4.15,\"TheWaves\"],[1931,4.15,\"TheWaves\"],[1927,3.78,\"ToTheLighthouse\"],[1927,3.78,\"ToTheLighthouse\"],[1941,3.61,\"BetweenTheActs\"],[1915,3.75,\"TheVoyageOut\"],[1941,3.61,\"BetweenTheActs\"],[1941,3.61,\"BetweenTheActs\"],[1931,4.15,\"TheWaves\"],[1941,3.61,\"BetweenTheActs\"],[1931,4.15,\"TheWaves\"],[1941,3.61,\"BetweenTheActs\"],[1931,4.15,\"TheWaves\"],[1931,4.15,\"TheWaves\"],[1941,3.61,\"BetweenTheActs\"],[1931,4.15,\"TheWaves\"],[1915,3.75,\"TheVoyageOut\"],[1931,4.15,\"TheWaves\"],[1931,4.15,\"TheWaves\"],[1919,3.75,\"NightAndDay\"],[1931,4.15,\"TheWaves\"],[1933,3.87,\"Flush\"],[1927,3.78,\"ToTheLighthouse\"],[1922,3.69,\"JacobsRoom\"],[1933,3.87,\"Flush\"],[1937,3.77,\"TheYears\"],[1928,3.86,\"Orlando\"],[1925,3.73,\"MrsDalloway\"],[1931,4.15,\"TheWaves\"],[1941,3.61,\"BetweenTheActs\"],[1927,3.78,\"ToTheLighthouse\"],[1927,3.78,\"ToTheLighthouse\"],[1931,4.15,\"TheWaves\"],[1931,4.15,\"TheWaves\"],[1931,4.15,\"TheWaves\"],[1941,3.61,\"BetweenTheActs\"],[1931,4.15,\"TheWaves\"],[1941,3.61,\"BetweenTheActs\"],[1941,3.61,\"BetweenTheActs\"]],\"hovertemplate\":\"\\u003cb\\u003e%{hovertext}\\u003c\\u002fb\\u003e\\u003cbr\\u003e\\u003cbr\\u003ePC0=%{x}\\u003cbr\\u003ePC1=%{y}\\u003cbr\\u003emean_doc_weight=%{marker.size}\\u003cbr\\u003eyear=%{customdata[0]}\\u003cbr\\u003egoodreads=%{marker.color}\\u003cbr\\u003ebook_id=%{customdata[2]}\\u003cextra\\u003e\\u003c\\u002fextra\\u003e\",\"hovertext\":[\"committee said sparrows came come\",\"aback rapid rang bell range ranged\",\"eyes said face head change\",\"boots things come said table\",\"said trees eyes light sea\",\"audience play thats chuff looked\",\"said say did picture let\",\"kitchen said room cut cat\",\"said did man dog silence\",\"green sun light white blue\",\"said old came time audience\",\"aback rapid rang bell range ranged\",\"trees silver fine pacing red\",\"light rose sun tree shadows\",\"aback rapid rang bell range ranged\",\"old man flower turned paper\",\"said leaves white eyes tree\",\"read time trees night hand\",\"aback rapid rang bell range ranged\",\"aback rapid rang bell range ranged\",\"think dont mind time life\",\"come let look make moment\",\"spaniel door family called dogs\",\"said old did choose felt\",\"letters life wrote street come\",\"came went dog room dogs\",\"said thought little looked did\",\"life great say woman come\",\"darkness sea solitary summer traveller\",\"blew wind lay corn reddened\",\"said words trees tree grass\",\"considering said did yes yes said\",\"trying deference said trying little man semblance\",\"aback rapid rang bell range ranged\",\"bee men inscribed said head\",\"aback rapid rang bell range ranged\",\"said little audience pen held\",\"aback rapid rang bell range ranged\",\"car aeroplane motor motor car smoke\",\"water felt view head cold\"],\"legendgroup\":\"\",\"marker\":{\"color\":[3.75,4.15,4.15,3.78,3.78,3.61,3.75,3.61,3.61,4.15,3.61,4.15,3.61,4.15,4.15,3.61,4.15,3.75,4.15,4.15,3.75,4.15,3.87,3.78,3.69,3.87,3.77,3.86,3.73,4.15,3.61,3.78,3.78,4.15,4.15,4.15,3.61,4.15,3.61,3.61],\"coloraxis\":\"coloraxis\",\"size\":[0.0037347022493617837,0.0001063196899619703,0.0096348885641074,0.006205943540765747,0.04081612074813488,0.01926553868122836,0.008148482815595309,0.010596780324821482,0.010034439094152945,0.02008446393412454,0.032330055463875004,0.0001063196899619703,0.004872534982493026,0.009923902186369953,0.0001063196899619703,0.004876465557532249,0.017727611212630806,0.014790007722315613,0.0001063196899619703,0.0001063196899619703,0.09362694398125701,0.05099036443586308,0.013128940304320075,0.005751737880090391,0.0017731212725613035,0.03234592715479825,0.47564826437906593,0.043589669385997454,0.014406308948628259,0.0030950493572176234,0.018061975869364214,0.004492284602242633,0.004625192629887515,0.0001063196899619703,0.004875722138866688,0.0001063196899619703,0.004874041702924743,0.0001063196899619703,0.009948102097454265,0.004873859262255361],\"sizemode\":\"area\",\"sizeref\":0.0011891206609476648,\"symbol\":\"circle\"},\"mode\":\"markers\",\"name\":\"\",\"orientation\":\"v\",\"showlegend\":false,\"x\":[0.1283518951716307,-0.6855232747207773,0.2534746587846672,0.18450734686227827,0.31434542757063927,0.21492033113977752,0.23435933134370882,0.2033208008814075,0.2472476621318968,0.20283111422467714,0.32890112657516835,-0.6855232747207773,0.09391021929847812,0.11516446001337483,-0.6855232747207773,0.161746836500913,0.356842238214159,0.23830210613522076,-0.6855232747207773,-0.6855232747207773,0.26302488717990274,0.23656334350212974,0.18464686456558,0.26247671133356526,0.038429575290554276,0.23672026201706597,0.3852788200838226,0.24762761145674347,0.16964880544326486,-0.054943912805270514,0.2625081668342249,-0.314440473387074,-0.25241367492268624,-0.6855232747207773,0.09893929781412981,-0.6855232747207773,0.20119037360858089,-0.6855232747207773,0.12762710297546084,0.11307688192822835],\"xaxis\":\"x\",\"y\":[0.16183255521774723,0.019734646166904454,-0.03579817428053711,0.06853175550354242,-0.0787306594016943,-0.07894774416223062,0.31271328117751845,0.05955706974414928,0.27612376057691596,-0.546458726624475,0.16488808848697156,0.019734646166904325,-0.19554593952668411,-0.47436717013447477,0.019734646166904325,-0.14162669865172797,0.003297725367112406,0.017090357197344416,0.019734646166904325,0.019734646166904325,0.3741555793747403,-0.15023669874436216,-0.05339690760977102,0.37834285907495546,-0.245328378410827,-0.01744457516532863,0.38265594560054916,-0.066237737774032,-0.32038623592592164,-0.31107738254136574,-0.10613155423691845,0.2328810710831332,0.17671322083464136,0.019734646166904325,0.024349329154140203,0.019734646166904325,0.33716350779356496,0.019734646166904325,-0.22197319381064537,-0.08448549852126508],\"yaxis\":\"y\",\"type\":\"scatter\"}],                        {\"template\":{\"data\":{\"histogram2dcontour\":[{\"type\":\"histogram2dcontour\",\"colorbar\":{\"outlinewidth\":0,\"ticks\":\"\"},\"colorscale\":[[0.0,\"#0d0887\"],[0.1111111111111111,\"#46039f\"],[0.2222222222222222,\"#7201a8\"],[0.3333333333333333,\"#9c179e\"],[0.4444444444444444,\"#bd3786\"],[0.5555555555555556,\"#d8576b\"],[0.6666666666666666,\"#ed7953\"],[0.7777777777777778,\"#fb9f3a\"],[0.8888888888888888,\"#fdca26\"],[1.0,\"#f0f921\"]]}],\"choropleth\":[{\"type\":\"choropleth\",\"colorbar\":{\"outlinewidth\":0,\"ticks\":\"\"}}],\"histogram2d\":[{\"type\":\"histogram2d\",\"colorbar\":{\"outlinewidth\":0,\"ticks\":\"\"},\"colorscale\":[[0.0,\"#0d0887\"],[0.1111111111111111,\"#46039f\"],[0.2222222222222222,\"#7201a8\"],[0.3333333333333333,\"#9c179e\"],[0.4444444444444444,\"#bd3786\"],[0.5555555555555556,\"#d8576b\"],[0.6666666666666666,\"#ed7953\"],[0.7777777777777778,\"#fb9f3a\"],[0.8888888888888888,\"#fdca26\"],[1.0,\"#f0f921\"]]}],\"heatmap\":[{\"type\":\"heatmap\",\"colorbar\":{\"outlinewidth\":0,\"ticks\":\"\"},\"colorscale\":[[0.0,\"#0d0887\"],[0.1111111111111111,\"#46039f\"],[0.2222222222222222,\"#7201a8\"],[0.3333333333333333,\"#9c179e\"],[0.4444444444444444,\"#bd3786\"],[0.5555555555555556,\"#d8576b\"],[0.6666666666666666,\"#ed7953\"],[0.7777777777777778,\"#fb9f3a\"],[0.8888888888888888,\"#fdca26\"],[1.0,\"#f0f921\"]]}],\"heatmapgl\":[{\"type\":\"heatmapgl\",\"colorbar\":{\"outlinewidth\":0,\"ticks\":\"\"},\"colorscale\":[[0.0,\"#0d0887\"],[0.1111111111111111,\"#46039f\"],[0.2222222222222222,\"#7201a8\"],[0.3333333333333333,\"#9c179e\"],[0.4444444444444444,\"#bd3786\"],[0.5555555555555556,\"#d8576b\"],[0.6666666666666666,\"#ed7953\"],[0.7777777777777778,\"#fb9f3a\"],[0.8888888888888888,\"#fdca26\"],[1.0,\"#f0f921\"]]}],\"contourcarpet\":[{\"type\":\"contourcarpet\",\"colorbar\":{\"outlinewidth\":0,\"ticks\":\"\"}}],\"contour\":[{\"type\":\"contour\",\"colorbar\":{\"outlinewidth\":0,\"ticks\":\"\"},\"colorscale\":[[0.0,\"#0d0887\"],[0.1111111111111111,\"#46039f\"],[0.2222222222222222,\"#7201a8\"],[0.3333333333333333,\"#9c179e\"],[0.4444444444444444,\"#bd3786\"],[0.5555555555555556,\"#d8576b\"],[0.6666666666666666,\"#ed7953\"],[0.7777777777777778,\"#fb9f3a\"],[0.8888888888888888,\"#fdca26\"],[1.0,\"#f0f921\"]]}],\"surface\":[{\"type\":\"surface\",\"colorbar\":{\"outlinewidth\":0,\"ticks\":\"\"},\"colorscale\":[[0.0,\"#0d0887\"],[0.1111111111111111,\"#46039f\"],[0.2222222222222222,\"#7201a8\"],[0.3333333333333333,\"#9c179e\"],[0.4444444444444444,\"#bd3786\"],[0.5555555555555556,\"#d8576b\"],[0.6666666666666666,\"#ed7953\"],[0.7777777777777778,\"#fb9f3a\"],[0.8888888888888888,\"#fdca26\"],[1.0,\"#f0f921\"]]}],\"mesh3d\":[{\"type\":\"mesh3d\",\"colorbar\":{\"outlinewidth\":0,\"ticks\":\"\"}}],\"scatter\":[{\"fillpattern\":{\"fillmode\":\"overlay\",\"size\":10,\"solidity\":0.2},\"type\":\"scatter\"}],\"parcoords\":[{\"type\":\"parcoords\",\"line\":{\"colorbar\":{\"outlinewidth\":0,\"ticks\":\"\"}}}],\"scatterpolargl\":[{\"type\":\"scatterpolargl\",\"marker\":{\"colorbar\":{\"outlinewidth\":0,\"ticks\":\"\"}}}],\"bar\":[{\"error_x\":{\"color\":\"#2a3f5f\"},\"error_y\":{\"color\":\"#2a3f5f\"},\"marker\":{\"line\":{\"color\":\"#E5ECF6\",\"width\":0.5},\"pattern\":{\"fillmode\":\"overlay\",\"size\":10,\"solidity\":0.2}},\"type\":\"bar\"}],\"scattergeo\":[{\"type\":\"scattergeo\",\"marker\":{\"colorbar\":{\"outlinewidth\":0,\"ticks\":\"\"}}}],\"scatterpolar\":[{\"type\":\"scatterpolar\",\"marker\":{\"colorbar\":{\"outlinewidth\":0,\"ticks\":\"\"}}}],\"histogram\":[{\"marker\":{\"pattern\":{\"fillmode\":\"overlay\",\"size\":10,\"solidity\":0.2}},\"type\":\"histogram\"}],\"scattergl\":[{\"type\":\"scattergl\",\"marker\":{\"colorbar\":{\"outlinewidth\":0,\"ticks\":\"\"}}}],\"scatter3d\":[{\"type\":\"scatter3d\",\"line\":{\"colorbar\":{\"outlinewidth\":0,\"ticks\":\"\"}},\"marker\":{\"colorbar\":{\"outlinewidth\":0,\"ticks\":\"\"}}}],\"scattermapbox\":[{\"type\":\"scattermapbox\",\"marker\":{\"colorbar\":{\"outlinewidth\":0,\"ticks\":\"\"}}}],\"scatterternary\":[{\"type\":\"scatterternary\",\"marker\":{\"colorbar\":{\"outlinewidth\":0,\"ticks\":\"\"}}}],\"scattercarpet\":[{\"type\":\"scattercarpet\",\"marker\":{\"colorbar\":{\"outlinewidth\":0,\"ticks\":\"\"}}}],\"carpet\":[{\"aaxis\":{\"endlinecolor\":\"#2a3f5f\",\"gridcolor\":\"white\",\"linecolor\":\"white\",\"minorgridcolor\":\"white\",\"startlinecolor\":\"#2a3f5f\"},\"baxis\":{\"endlinecolor\":\"#2a3f5f\",\"gridcolor\":\"white\",\"linecolor\":\"white\",\"minorgridcolor\":\"white\",\"startlinecolor\":\"#2a3f5f\"},\"type\":\"carpet\"}],\"table\":[{\"cells\":{\"fill\":{\"color\":\"#EBF0F8\"},\"line\":{\"color\":\"white\"}},\"header\":{\"fill\":{\"color\":\"#C8D4E3\"},\"line\":{\"color\":\"white\"}},\"type\":\"table\"}],\"barpolar\":[{\"marker\":{\"line\":{\"color\":\"#E5ECF6\",\"width\":0.5},\"pattern\":{\"fillmode\":\"overlay\",\"size\":10,\"solidity\":0.2}},\"type\":\"barpolar\"}],\"pie\":[{\"automargin\":true,\"type\":\"pie\"}]},\"layout\":{\"autotypenumbers\":\"strict\",\"colorway\":[\"#636efa\",\"#EF553B\",\"#00cc96\",\"#ab63fa\",\"#FFA15A\",\"#19d3f3\",\"#FF6692\",\"#B6E880\",\"#FF97FF\",\"#FECB52\"],\"font\":{\"color\":\"#2a3f5f\"},\"hovermode\":\"closest\",\"hoverlabel\":{\"align\":\"left\"},\"paper_bgcolor\":\"white\",\"plot_bgcolor\":\"#E5ECF6\",\"polar\":{\"bgcolor\":\"#E5ECF6\",\"angularaxis\":{\"gridcolor\":\"white\",\"linecolor\":\"white\",\"ticks\":\"\"},\"radialaxis\":{\"gridcolor\":\"white\",\"linecolor\":\"white\",\"ticks\":\"\"}},\"ternary\":{\"bgcolor\":\"#E5ECF6\",\"aaxis\":{\"gridcolor\":\"white\",\"linecolor\":\"white\",\"ticks\":\"\"},\"baxis\":{\"gridcolor\":\"white\",\"linecolor\":\"white\",\"ticks\":\"\"},\"caxis\":{\"gridcolor\":\"white\",\"linecolor\":\"white\",\"ticks\":\"\"}},\"coloraxis\":{\"colorbar\":{\"outlinewidth\":0,\"ticks\":\"\"}},\"colorscale\":{\"sequential\":[[0.0,\"#0d0887\"],[0.1111111111111111,\"#46039f\"],[0.2222222222222222,\"#7201a8\"],[0.3333333333333333,\"#9c179e\"],[0.4444444444444444,\"#bd3786\"],[0.5555555555555556,\"#d8576b\"],[0.6666666666666666,\"#ed7953\"],[0.7777777777777778,\"#fb9f3a\"],[0.8888888888888888,\"#fdca26\"],[1.0,\"#f0f921\"]],\"sequentialminus\":[[0.0,\"#0d0887\"],[0.1111111111111111,\"#46039f\"],[0.2222222222222222,\"#7201a8\"],[0.3333333333333333,\"#9c179e\"],[0.4444444444444444,\"#bd3786\"],[0.5555555555555556,\"#d8576b\"],[0.6666666666666666,\"#ed7953\"],[0.7777777777777778,\"#fb9f3a\"],[0.8888888888888888,\"#fdca26\"],[1.0,\"#f0f921\"]],\"diverging\":[[0,\"#8e0152\"],[0.1,\"#c51b7d\"],[0.2,\"#de77ae\"],[0.3,\"#f1b6da\"],[0.4,\"#fde0ef\"],[0.5,\"#f7f7f7\"],[0.6,\"#e6f5d0\"],[0.7,\"#b8e186\"],[0.8,\"#7fbc41\"],[0.9,\"#4d9221\"],[1,\"#276419\"]]},\"xaxis\":{\"gridcolor\":\"white\",\"linecolor\":\"white\",\"ticks\":\"\",\"title\":{\"standoff\":15},\"zerolinecolor\":\"white\",\"automargin\":true,\"zerolinewidth\":2},\"yaxis\":{\"gridcolor\":\"white\",\"linecolor\":\"white\",\"ticks\":\"\",\"title\":{\"standoff\":15},\"zerolinecolor\":\"white\",\"automargin\":true,\"zerolinewidth\":2},\"scene\":{\"xaxis\":{\"backgroundcolor\":\"#E5ECF6\",\"gridcolor\":\"white\",\"linecolor\":\"white\",\"showbackground\":true,\"ticks\":\"\",\"zerolinecolor\":\"white\",\"gridwidth\":2},\"yaxis\":{\"backgroundcolor\":\"#E5ECF6\",\"gridcolor\":\"white\",\"linecolor\":\"white\",\"showbackground\":true,\"ticks\":\"\",\"zerolinecolor\":\"white\",\"gridwidth\":2},\"zaxis\":{\"backgroundcolor\":\"#E5ECF6\",\"gridcolor\":\"white\",\"linecolor\":\"white\",\"showbackground\":true,\"ticks\":\"\",\"zerolinecolor\":\"white\",\"gridwidth\":2}},\"shapedefaults\":{\"line\":{\"color\":\"#2a3f5f\"}},\"annotationdefaults\":{\"arrowcolor\":\"#2a3f5f\",\"arrowhead\":0,\"arrowwidth\":1},\"geo\":{\"bgcolor\":\"white\",\"landcolor\":\"#E5ECF6\",\"subunitcolor\":\"white\",\"showland\":true,\"showlakes\":true,\"lakecolor\":\"white\"},\"title\":{\"x\":0.05},\"mapbox\":{\"style\":\"light\"}}},\"xaxis\":{\"anchor\":\"y\",\"domain\":[0.0,1.0],\"title\":{\"text\":\"PC0\"}},\"yaxis\":{\"anchor\":\"x\",\"domain\":[0.0,1.0],\"title\":{\"text\":\"PC1\"}},\"coloraxis\":{\"colorbar\":{\"title\":{\"text\":\"goodreads\"}},\"colorscale\":[[0.0,\"#0d0887\"],[0.1111111111111111,\"#46039f\"],[0.2222222222222222,\"#7201a8\"],[0.3333333333333333,\"#9c179e\"],[0.4444444444444444,\"#bd3786\"],[0.5555555555555556,\"#d8576b\"],[0.6666666666666666,\"#ed7953\"],[0.7777777777777778,\"#fb9f3a\"],[0.8888888888888888,\"#fdca26\"],[1.0,\"#f0f921\"]]},\"legend\":{\"tracegroupgap\":0,\"itemsizing\":\"constant\"},\"margin\":{\"t\":60},\"height\":600,\"width\":700},                        {\"responsive\": true}                    ).then(function(){\n",
       "                            \n",
       "var gd = document.getElementById('d33adb99-bf94-4667-af6d-0413b1b87d59');\n",
       "var x = new MutationObserver(function (mutations, observer) {{\n",
       "        var display = window.getComputedStyle(gd).display;\n",
       "        if (!display || display === 'none') {{\n",
       "            console.log([gd, 'removed!']);\n",
       "            Plotly.purge(gd);\n",
       "            observer.disconnect();\n",
       "        }}\n",
       "}});\n",
       "\n",
       "// Listen for the removal of the full notebook cells\n",
       "var notebookContainer = gd.closest('#notebook-container');\n",
       "if (notebookContainer) {{\n",
       "    x.observe(notebookContainer, {childList: true});\n",
       "}}\n",
       "\n",
       "// Listen for the clearing of the current output cell\n",
       "var outputEl = gd.closest('.output');\n",
       "if (outputEl) {{\n",
       "    x.observe(outputEl, {childList: true});\n",
       "}}\n",
       "\n",
       "                        })                };                });            </script>        </div>"
      ]
     },
     "metadata": {},
     "output_type": "display_data"
    }
   ],
   "source": [
    "# plot with first two components\n",
    "pca_plot = pd.DataFrame(phi_pca, index=PHI.index, columns=['PC0', 'PC1'])\n",
    "\n",
    "# size points based on mean document weight using THETA\n",
    "pca_plot['mean_doc_weight'] = THETA.mean()\n",
    "\n",
    "# assign dominant book to each topic\n",
    "topic_to_book_id = THETA.groupby(BOOK).mean().idxmax()\n",
    "pca_plot['book_id'] = topic_to_book_id\n",
    "\n",
    "# join with LIB metadata and TOPIC top terms\n",
    "pca_plot = pca_plot.join(LIB[['title', 'year', 'goodreads']], on='book_id')\n",
    "pca_plot = pca_plot.join(TOPICS)\n",
    "\n",
    "# plot\n",
    "px.scatter(\n",
    "    pca_plot.reset_index(), # reset index to make topic_id a column\n",
    "    x='PC0',\n",
    "    y='PC1',\n",
    "    size='mean_doc_weight',\n",
    "    color='goodreads',\n",
    "    hover_name='top_terms',\n",
    "    hover_data=['year', 'goodreads', 'book_id'], \n",
    "    height=600,\n",
    "    width=700\n",
    ")\n"
   ]
  },
  {
   "cell_type": "code",
   "execution_count": null,
   "id": "b51e312a-fa23-46e1-81dd-465c889ec9f0",
   "metadata": {},
   "outputs": [],
   "source": []
  }
 ],
 "metadata": {
  "kernelspec": {
   "display_name": "Python 3 (ipykernel)",
   "language": "python",
   "name": "python3"
  },
  "language_info": {
   "codemirror_mode": {
    "name": "ipython",
    "version": 3
   },
   "file_extension": ".py",
   "mimetype": "text/x-python",
   "name": "python",
   "nbconvert_exporter": "python",
   "pygments_lexer": "ipython3",
   "version": "3.12.3"
  }
 },
 "nbformat": 4,
 "nbformat_minor": 5
}
