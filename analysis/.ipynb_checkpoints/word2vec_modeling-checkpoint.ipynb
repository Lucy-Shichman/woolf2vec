{
 "cells": [
  {
   "cell_type": "markdown",
   "id": "d48c7825-fcb4-48d3-b398-c15d42fe0ba2",
   "metadata": {},
   "source": [
    "# Word2vec modeling"
   ]
  },
  {
   "cell_type": "code",
   "execution_count": null,
   "id": "7e6db68f-764e-4f53-9b73-5d47877b5d80",
   "metadata": {},
   "outputs": [],
   "source": []
  }
 ],
 "metadata": {
  "kernelspec": {
   "display_name": "Python 3 (ipykernel)",
   "language": "python",
   "name": "python3"
  },
  "language_info": {
   "codemirror_mode": {
    "name": "ipython",
    "version": 3
   },
   "file_extension": ".py",
   "mimetype": "text/x-python",
   "name": "python",
   "nbconvert_exporter": "python",
   "pygments_lexer": "ipython3",
   "version": "3.12.3"
  }
 },
 "nbformat": 4,
 "nbformat_minor": 5
}
